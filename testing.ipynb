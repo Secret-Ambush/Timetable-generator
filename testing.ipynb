{
 "cells": [
  {
   "cell_type": "code",
   "execution_count": 1,
   "metadata": {},
   "outputs": [],
   "source": [
    "import streamlit as st\n",
    "import pandas as pd\n",
    "import numpy as np\n",
    "import fitz  # PyMuPDF\n",
    "import tabula\n",
    "from tabula import read_pdf\n",
    "from constraint import Problem\n",
    "import pandas as pd\n",
    "import numpy as np\n",
    "import matplotlib.pyplot as plt\n",
    "from PIL import Image, ImageDraw, ImageFont\n",
    "from streamlit_js_eval import streamlit_js_eval"
   ]
  },
  {
   "cell_type": "code",
   "execution_count": 2,
   "metadata": {},
   "outputs": [],
   "source": [
    "def remove_header(df):\n",
    "    header_row_index = df[df.iloc[:, 0] == 'COM COD'].index[0]\n",
    "    df = df.drop(index=df.index[:header_row_index]).reset_index(drop=True)\n",
    "    df.columns = df.iloc[0]\n",
    "    df = df.drop(index=0).reset_index(drop=True)\n",
    "    \n",
    "    return df"
   ]
  },
  {
   "cell_type": "code",
   "execution_count": 3,
   "metadata": {},
   "outputs": [],
   "source": [
    "tables = read_pdf('/Users/bristi/Downloads/Timetable First Semester 2024-25.pdf', pages='all', multiple_tables=True)\n",
    "if tables:\n",
    "    df = remove_header(tables[0])\n",
    "    column_names = df.columns\n",
    "    for i in range(1, 5):\n",
    "        temp_df = tables[i]\n",
    "        temp_df.columns = column_names\n",
    "        df = pd.concat([df, temp_df], ignore_index=True)"
   ]
  },
  {
   "cell_type": "code",
   "execution_count": 5,
   "metadata": {},
   "outputs": [
    {
     "data": {
      "text/plain": [
       "Index(['COM COD', 'COURSE NO.', 'COURSE TITLE', 'CREDIT\\rL P U', 'SEC',\n",
       "       'INSTRUCTOR-IN-CHARGE/ Instructor', 'ROOM', 'DAYS/ HOURS',\n",
       "       'MIDSEM TEST', 'COMRE DATE &\\rSESSION'],\n",
       "      dtype='object', name=0)"
      ]
     },
     "execution_count": 5,
     "metadata": {},
     "output_type": "execute_result"
    }
   ],
   "source": [
    "df.columns"
   ]
  },
  {
   "cell_type": "code",
   "execution_count": null,
   "metadata": {},
   "outputs": [],
   "source": []
  }
 ],
 "metadata": {
  "kernelspec": {
   "display_name": "base",
   "language": "python",
   "name": "python3"
  },
  "language_info": {
   "codemirror_mode": {
    "name": "ipython",
    "version": 3
   },
   "file_extension": ".py",
   "mimetype": "text/x-python",
   "name": "python",
   "nbconvert_exporter": "python",
   "pygments_lexer": "ipython3",
   "version": "3.9.13"
  }
 },
 "nbformat": 4,
 "nbformat_minor": 2
}
